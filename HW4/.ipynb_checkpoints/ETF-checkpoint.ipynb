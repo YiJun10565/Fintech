{
 "cells": [
  {
   "cell_type": "code",
   "execution_count": 4,
   "metadata": {},
   "outputs": [],
   "source": [
    "import pandas as pd\n",
    "import numpy as np\n",
    "import requests \n",
    "from bs4 import BeautifulSoup\n",
    "import urllib.request\n",
    "import os\n",
    "from pyquery import PyQuery as pq\n",
    "import pickle\n",
    "from selenium import webdriver\n",
    "import datetime as dt\n",
    "import time\n",
    "import calendar\n",
    "from scipy.stats.kde import gaussian_kde"
   ]
  },
  {
   "cell_type": "code",
   "execution_count": 5,
   "metadata": {},
   "outputs": [],
   "source": [
    "#整理資料\n",
    "origin_list=pd.read_csv(\"Materials Equity ETF List (62).csv\",index_col=22,parse_dates=True)\n",
    "origin_list2=pd.read_csv(\"Telecom Equity ETF List (10).csv\",index_col=22,parse_dates=True)\n",
    "need_list=pd.concat([origin_list,origin_list2])"
   ]
  },
  {
   "cell_type": "code",
   "execution_count": 6,
   "metadata": {},
   "outputs": [],
   "source": [
    "#切出symbol欄&ETF名稱欄\n",
    "symbol_list = need_list['Symbol'].reset_index()['Symbol']\n",
    "name_list = need_list['ETF Name'].reset_index()['ETF Name']\n",
    "all_ETF=need_list[\"Symbol\"].values"
   ]
  },
  {
   "cell_type": "code",
   "execution_count": 7,
   "metadata": {},
   "outputs": [],
   "source": [
    "#combine ETF daily data\n",
    "#use the combined data to build the weekly and monthly ETF return \n",
    "def combine_daily_data(ETF):\n",
    "    com_data=pd.DataFrame()\n",
    "    for s in range(len(ETF)):\n",
    "        read = \"./data/\"+ ETF[s] +\".csv\"\n",
    "        data = pd.read_csv(read,index_col=0,parse_dates=True)[\"Adj Close\"]\n",
    "        com_data = pd.concat([com_data,data],axis=1)\n",
    "    com_data.columns = ETF\n",
    "    return com_data\n",
    "\n",
    "Daily_ETF = combine_daily_data(all_ETF)"
   ]
  },
  {
   "cell_type": "code",
   "execution_count": 8,
   "metadata": {},
   "outputs": [],
   "source": [
    "#fill in the no-trade dates\n",
    "day=Daily_ETF.index[0]\n",
    "n=0\n",
    "while day!=Daily_ETF.index[-1]:\n",
    "    if (Daily_ETF.index[n+1]-Daily_ETF.index[n]).days !=1:\n",
    "        for i in range(1,(Daily_ETF.index[n+1]-Daily_ETF.index[n]).days):\n",
    "            Daily_ETF.loc[Daily_ETF.index[n]+dt.timedelta(i)]=Daily_ETF.loc[Daily_ETF.index[n]]\n",
    "    Daily_ETF=Daily_ETF.sort_index()\n",
    "    n = n+(Daily_ETF.index[n+1]-Daily_ETF.index[n]).days\n",
    "    day=Daily_ETF.index[n]"
   ]
  },
  {
   "cell_type": "code",
   "execution_count": 9,
   "metadata": {},
   "outputs": [],
   "source": [
    "week_index=[]\n",
    "for i in range(Daily_ETF.shape[0]):\n",
    "    if Daily_ETF.index[i].isoweekday()==5:\n",
    "        week_index.append(Daily_ETF.index[i])\n",
    "month_index=[]\n",
    "for i in range(Daily_ETF.shape[0]):\n",
    "    if Daily_ETF.index[i].day==1:\n",
    "        month_index.append(Daily_ETF.index[i])"
   ]
  },
  {
   "cell_type": "code",
   "execution_count": 14,
   "metadata": {},
   "outputs": [],
   "source": [
    "riskless_rate=pd.read_csv(\"USG3M.csv\",index_col=0,parse_dates=True)\n",
    "USG3M=riskless_rate[::-1][\"Price\"]\n",
    "n=0\n",
    "while day!=temp_USG3M.index[-1]:\n",
    "    if (USG3M.index[n+1]-USG3M.index[n]).days !=1:\n",
    "        for i in range(1,(USG3M.index[n+1]-USG3M.index[n]).days):\n",
    "            USG3M.loc[USG3M.index[n]+dt.timedelta(i)]=USG3M.loc[USG3M.index[n]]\n",
    "    USG3M=USG3M.sort_index()\n",
    "    n = n+(USG3M.index[n+1]-USG3M.index[n]).days\n",
    "    day=USG3M.index[n]"
   ]
  },
  {
   "cell_type": "code",
   "execution_count": 16,
   "metadata": {},
   "outputs": [
    {
     "name": "stderr",
     "output_type": "stream",
     "text": [
      "/Users/jyun/anaconda3/lib/python3.7/site-packages/ipykernel_launcher.py:5: FutureWarning: \n",
      "Passing list-likes to .loc or [] with any missing label will raise\n",
      "KeyError in the future, you can use .reindex() as an alternative.\n",
      "\n",
      "See the documentation here:\n",
      "https://pandas.pydata.org/pandas-docs/stable/indexing.html#deprecate-loc-reindex-listlike\n",
      "  \"\"\"\n",
      "/Users/jyun/anaconda3/lib/python3.7/site-packages/ipykernel_launcher.py:6: FutureWarning: \n",
      "Passing list-likes to .loc or [] with any missing label will raise\n",
      "KeyError in the future, you can use .reindex() as an alternative.\n",
      "\n",
      "See the documentation here:\n",
      "https://pandas.pydata.org/pandas-docs/stable/indexing.html#deprecate-loc-reindex-listlike\n",
      "  \n"
     ]
    }
   ],
   "source": [
    "weekly_ETF=Daily_ETF.loc[week_index]\n",
    "monthly_ETF=Daily_ETF.loc[month_index]\n",
    "wr=weekly_ETF/weekly_ETF.shift(1)-1\n",
    "mr=monthly_ETF/monthly_ETF.shift(1)-1\n",
    "wUSG3M = USG3M.loc[week_index]\n",
    "mUSG3M = USG3M.loc[month_index]"
   ]
  }
 ],
 "metadata": {
  "kernelspec": {
   "display_name": "Python 3",
   "language": "python",
   "name": "python3"
  },
  "language_info": {
   "codemirror_mode": {
    "name": "ipython",
    "version": 3
   },
   "file_extension": ".py",
   "mimetype": "text/x-python",
   "name": "python",
   "nbconvert_exporter": "python",
   "pygments_lexer": "ipython3",
   "version": "3.7.1"
  }
 },
 "nbformat": 4,
 "nbformat_minor": 2
}
