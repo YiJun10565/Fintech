{
 "cells": [
  {
   "cell_type": "code",
   "execution_count": 1,
   "metadata": {},
   "outputs": [
    {
     "name": "stderr",
     "output_type": "stream",
     "text": [
      "Building prefix dict from /Users/rexsung/Desktop/fintech-Hw1-/fintech HW2/dict.txt.big ...\n",
      "Loading model from cache /var/folders/km/lpsgxd3d5s90b2hgzfgzg4f00000gn/T/jieba.u6fcb8695312db88c472cf5b581db94cc.cache\n",
      "Loading model cost 1.329 seconds.\n",
      "Prefix dict has been built succesfully.\n"
     ]
    }
   ],
   "source": [
    "#encoding=utf-8\n",
    "import jieba\n",
    "import jieba.analyse as janal\n",
    "import numpy as np\n",
    "\n",
    "jieba.set_dictionary('./dict.txt.big')\n",
    "\n",
    "fp = open('news.txt','r')\n",
    "list = fp.readline() \n",
    "wfp = open('tags.txt', 'w')\n",
    "wfp.close()\n",
    "while list:\n",
    "    list = list.strip('\\n') \n",
    "    content = open(list, 'rb').read() \n",
    "    tags = janal.extract_tags(content, 10)\n",
    "    result = open('tags.txt', 'a')\n",
    "    result.write(\",\".join(tags))\n",
    "    result.write(\"\\n\")\n",
    "    result.close()\n",
    "    list = fp.readline()"
   ]
  },
  {
   "cell_type": "code",
   "execution_count": null,
   "metadata": {
    "collapsed": true
   },
   "outputs": [],
   "source": []
  }
 ],
 "metadata": {
  "kernelspec": {
   "display_name": "Python 3",
   "language": "python",
   "name": "python3"
  },
  "language_info": {
   "codemirror_mode": {
    "name": "ipython",
    "version": 3
   },
   "file_extension": ".py",
   "mimetype": "text/x-python",
   "name": "python",
   "nbconvert_exporter": "python",
   "pygments_lexer": "ipython3",
   "version": "3.7.0"
  }
 },
 "nbformat": 4,
 "nbformat_minor": 2
}
