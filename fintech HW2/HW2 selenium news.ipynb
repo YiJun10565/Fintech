{
 "cells": [
  {
   "cell_type": "code",
   "execution_count": null,
   "metadata": {},
   "outputs": [],
   "source": [
    "# reference:\n",
    "#     https://zwindr.blogspot.com/2016/07/python-selenium.html\n",
    "#     http://www.runoob.com/python/python-exceptions.html\n",
    "#     http://nccusimonlee.blogspot.com/2017/02/python_48.html"
   ]
  },
  {
   "cell_type": "code",
   "execution_count": 1,
   "metadata": {},
   "outputs": [],
   "source": [
    "from selenium import webdriver\n",
    "from selenium.webdriver.common.keys import Keys\n",
    "from selenium.common.exceptions import TimeoutException\n",
    "from selenium.webdriver.support.ui import WebDriverWait\n",
    "from selenium.webdriver.support import expected_conditions as EC\n",
    "from bs4 import BeautifulSoup as bs\n",
    "import datetime\n",
    "import time"
   ]
  },
  {
   "cell_type": "code",
   "execution_count": null,
   "metadata": {},
   "outputs": [
    {
     "name": "stderr",
     "output_type": "stream",
     "text": [
      "D:\\Anaconda3\\lib\\site-packages\\ipykernel_launcher.py:11: DeprecationWarning: use options instead of chrome_options\n",
      "  # This is added back by InteractiveShellApp.init_path()\n"
     ]
    }
   ],
   "source": [
    "#    options = webdriver.ChromeOptions()\n",
    "#    prefs = {'profile.default_content_settings.popups': 0, 'download.default_directory': './data'}\n",
    "#    options.add_experimental_option('prefs', prefs)\n",
    "#    driver = webdriver.Chrome(chrome_options=options)\n",
    "#    driver.get(url)\n",
    "\n",
    "#coding=utf-8\n",
    "option = webdriver.ChromeOptions()\n",
    "#option.add_argument('headless')\n",
    "option.add_argument('window-size=1200x600')\n",
    "browser = webdriver.Chrome(chrome_options=option)\n",
    "\"&&\"\n",
    "base_url = \"https://tw.appledaily.com/search/result?\"\n",
    "text = \"querystrS=洗錢\" # search Money laundering in Chinese\n",
    "searchSort = \"sort=time\"\n",
    "searchType = \"searchType=all\"\n",
    "dateStart = \"dateStart=\" + \"2003\" + \"%2F\" + \"05\" + \"%2F\" + \"02\" # 2003-05-02  start time of this website\n",
    "now = datetime.datetime.now()\n",
    "dateEnd = \"dateEnd=\" + str(now.year) + \"%2F\" + str(now.month) + \"%2F\" + str(now.day) #current date\n",
    "\n",
    "combine_url = base_url + text + '&' + searchSort + '&' + searchType + '&' + dateStart + '&' + dateEnd\n",
    "browser.get(combine_url)\n",
    "#time.sleep(1.5)\n",
    "# fail to search by clicking button and send keywords \n",
    "    #button = browser.find_element_by_id('search')\n",
    "    #button.click()\n",
    "    #button.send_keys('洗錢')\n",
    "    #browser.find_element_by_id('start_date').clear()\n",
    "    #browser.find_element_by_id('start_date').send_keys('2003-5-2')\n",
    "    #browser.find_element_by_id('search').send_keys(Keys.ENTER)\n",
    "flag = 1\n",
    "while(flag == 1):\n",
    "    try:\n",
    "        button = browser.find_element_by_id('moreButton')\n",
    "        button.click()\n",
    "    except NoSuchElementException:\n",
    "        flag = 0\n",
    "    \n",
    "\n",
    "#pre_soup = bs(browser.page_source, 'lxml')\n",
    "#page_temp = pre_soup.select('#pageNumber a')\n",
    "#page_count = []\n",
    "#for pt in page_temp:\n",
    "#    page_count.append(pt.text)\n",
    "#page_count = int(page_count[-3])"
   ]
  },
  {
   "cell_type": "code",
   "execution_count": null,
   "metadata": {},
   "outputs": [],
   "source": []
  },
  {
   "cell_type": "code",
   "execution_count": null,
   "metadata": {},
   "outputs": [],
   "source": []
  }
 ],
 "metadata": {
  "kernelspec": {
   "display_name": "Python 3",
   "language": "python",
   "name": "python3"
  },
  "language_info": {
   "codemirror_mode": {
    "name": "ipython",
    "version": 3
   },
   "file_extension": ".py",
   "mimetype": "text/x-python",
   "name": "python",
   "nbconvert_exporter": "python",
   "pygments_lexer": "ipython3",
   "version": "3.7.1"
  }
 },
 "nbformat": 4,
 "nbformat_minor": 2
}
