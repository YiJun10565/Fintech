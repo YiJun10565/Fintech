{
 "cells": [
  {
   "cell_type": "code",
   "execution_count": null,
   "metadata": {},
   "outputs": [],
   "source": [
    "# reference:\n",
    "#     https://zwindr.blogspot.com/2016/07/python-selenium.html\n",
    "#     http://www.runoob.com/python/python-exceptions.html\n",
    "#     http://nccusimonlee.blogspot.com/2017/02/python_48.html"
   ]
  },
  {
   "cell_type": "code",
   "execution_count": 103,
   "metadata": {},
   "outputs": [],
   "source": [
    "from selenium import webdriver\n",
    "from selenium.webdriver.common.keys import Keys\n",
    "from selenium.common.exceptions import TimeoutException\n",
    "from selenium.common.exceptions import NoSuchElementException\n",
    "from selenium.common.exceptions import ElementNotVisibleException                \n",
    "from selenium.webdriver.support.ui import WebDriverWait\n",
    "from selenium.webdriver.support import expected_conditions as EC\n",
    "from bs4 import BeautifulSoup as bs\n",
    "import datetime\n",
    "import time\n",
    "import pandas as pd"
   ]
  },
  {
   "cell_type": "code",
   "execution_count": 113,
   "metadata": {},
   "outputs": [
    {
     "name": "stderr",
     "output_type": "stream",
     "text": [
      "D:\\Anaconda3\\lib\\site-packages\\ipykernel_launcher.py:11: DeprecationWarning: use options instead of chrome_options\n",
      "  # This is added back by InteractiveShellApp.init_path()\n"
     ]
    },
    {
     "name": "stdout",
     "output_type": "stream",
     "text": [
      "['hTC內鬼洩密收回扣  首席設計師判刑8年 ', '拉攏台商！政院通過海外資金匯回專法  優惠稅率4%起 ', '機車行掛羊頭賣狗肉  老闆成詐欺金流帳房 ', '涉大學招生弊案  《俏皮老爸天才娃》女星遭加控共謀洗錢 ', '台版《無雙》  婦人販售2億偽鈔牟暴利', '誆少年「不會被關」當車手  警瓦解假借貸詐騙集團 ', '警破詐騙洗錢集團  非法匯兌2千多萬 ', '壽險業大利多  台商資金回流可買保單 ', '東京炒房兩樣情  中國熱、台灣冷', '【原因曝光】高雄市招商破功公司登記銳減  原來真相是...', '卸任老總：一銀40年生涯突然結束  壯志未酬且備感意外', '屢被王浩宇消費  高市府酸他靠韓流發財還擋路', '大馬前首相受審 否認貪千億公帑 ', '馬來西亞前首相出庭受審  否認貪千億公帑 ', '詐騙同夥被抓光  女主嫌返台招兵買馬也落網 ', '貴婦奈奈贓款找到了？  逃亡前疑買5豪宅洗錢 ', '竹科貴婦遭詐千萬還淪幫助犯  險被判刑入監 ', '勝利「林太」被起底  老公是台中賭國大亨于國柱', '〈掏空疑雲1〉蘇嘉全立委姪突退選 助理異常賣股遭疑', '猜猜我是誰老梗詐騙  男遭逮辯稱看報找工作', '拳總老大是黑道 換新主席拚2020東奧', '星國打房奏效！豪宅價跌勢10年最慘', '「行動機房」躲查緝  詐騙車手難逃法眼', '【賴清德的困境】賴初選贏越多，大選恐輸更慘（翁達瑞）', '【賴清德的困境】 翁達瑞：賴初選贏越多，大選恐輸更慘', '超商遊戲點數淪詐騙幫兇  警籲嚴守單店每日3萬上限', '警銀強化金融防詐  提昇行員臨櫃關懷提問能力', '林一泓批遊戲點數卡公司不負責任  歐買尬以區塊鏈防詐騙', '【收入差】土銀、台企銀擬停辦香港分行財管業務', '勝利分享淫照遭法辦 爆台灣林太夜店洗錢', '「台灣林太」砸3億韓國投資洗錢  開趴曝光！勝利：真的感謝您（動畫）', '勝利爆赴警局前先美妝  合夥人台灣「林太」遭疑洗錢', '胡慧中老公涉貪遭美判刑3年  罰款千萬台幣', '洋腸表演「洗美金」  失婚女被騙547萬', '立院三讀《銀行法》  銀行業最高罰鍰提高為5千萬', '胡慧中老公涉貪美國判刑  入獄65年→3年罰1233萬了事', '勝利神祕金主「林太」就是她？超有錢跟Jolin竟有這關係', '加味的咖啡！好友拒借錢  竟下藥劫走80萬現金', '「吸奶法官」三房藏贓款300萬  判1年2月', '揪金控家族股權藏鏡人  顧立雄：台新吳家已逾10%', '防洗錢不擾民 顧立雄下海說明', '帳戶10萬元以下  可郵寄結清戶頭', '防洗錢不擾民  顧立雄親下鄉與民眾「面對面」', '告白援交妹遭拒！竹科新貴駭入雲端  散布她的性愛片', '賴清德籲特赦陳水扁  國民黨團將提案送阿扁回監獄', '郭新政控羅淑蕾偽造當票誤導法官  結果出爐', '高官老公涉貪宣判前6天  胡慧中密遁中國搬救兵', '又是「猜猜我是誰」詐騙老梗  26歲首腦得手上千萬', '台商控包養花5千萬 法院認定 酒店妹只詐200萬', '逃過65年牢獄！ 胡慧中老公涉貪僅求刑5年', '【獨家】海派酒女涉詐老台商5158萬  判決出爐', '高薪誘求職者交存摺  詐團用LINE群組叫車收簿', '破紀錄！掃毒扣近億贓款  毒鴛鴦1收押1跳樓摔斷腿', '點數詐騙500多萬元   知名教授兒不堪壓力輕生  ', '三月十八日各報頭條搶先看', '夫涉貪污洗錢將宣判最多65年  胡慧中現身愁容滿面', '合法掩護非法地下匯兌  嫌開林寶堅尼炫富遭逮', 'Google去年移除不良廣告  高達23億個', '女騙子揪男友赴日替詐團煮飯  結局雙雙被逮', '回台投資25億  車王電董座：加碼補助比發消費券效果好百倍', '彰銀徵才400人起跑  法務起薪5.5萬元  ', '衣架夾滿千元鈔 網笑「真的洗錢」', '二度就業好輕鬆  求職婦淪詐騙車手', ' 誆投資馬國房產吸金10億  共犯100萬交保', '家有「搖錢曬衣架」！藍色千元鈔張張夾  網笑「真的洗錢」', '陳冲基金會呼籲  匯兌可開放給非銀行辦理', '誆騙投資馬來西亞房地產  警破吸金集團', '〈富豪翻臉3〉都更主角遭通緝 摟妹熱舞GG了', '農會行員涉賭  竟幫六合彩組頭洗錢8075萬', '涉收BMW及千萬賄款  前桃園縣長隨行秘書貪污起訴', '影帝飛車追逐摸黑狂飆  《騙局》逆襲7封影帝', '三月十二日各報頭條搶先看', '制裁破功 北韓靠駭客海撈7億', '【就是要卡？】韓國瑜要設經濟示範區  財長反對「這是全國性問題」', '被控替山口組洗錢  國學大師之子不起訴', '臨櫃存3萬 遭拒還被酸 金管會關切 要求尊重客戶', '【網友氣炸】客戶存3萬遭拒金管會關切  土銀：加強行員溝通能力', '臨櫃V.S.存提款機  專家：各有利弊', '科技人跳金融圈  將來銀行老總自爆克服3大差異', '韓國瑜拋自由經濟示範區  財部：管理面將面臨極大挑戰', '10大金控搶先跑 年薪上看百萬', '菲涉電信詐騙台人又被遣送中國  陸委會嚴正抗議', '【新鮮人年薪百萬】10大金控獵3萬名好手  科技金融人才都要', '彰銀今年可望加薪3%   每股可望配0.84元股利', '川普前幕僚涉詐獲輕判 比一般量刑少15年 法界斥離譜', 'GG了！  川普前競選經理被判刑近4年、賠償1.8億', '中信金徵才5000人  破慣例可穿牛仔褲球鞋上班', '韓國瑜 推自由經濟示範區  央行總裁：留意洗錢防制', '【央行回應】韓國瑜推自由經濟示範區  楊金龍：要考慮防洗錢', '扣詐騙集團26輛車僅准拍賣瑪莎拉蒂  檢方上訴', '台資銀海外設點注意了  最終實質受益人得全都露  ', '電子支付首例 街口入股投信業', '孟晚舟反告加拿大政府  強迫她提供証據', '純網銀、網銀業務競爭？張兆順：客戶不衝突', '《街口》進軍投信業取得華頓25%股權  胡亦嘉出任CEO', '海外資金匯回專法  財長：3大原則下協商', '開曼開第1槍 免稅天堂沒了', '加拿大司法部發出授權  正式啟動引渡孟晚舟程序', '小朋友拍愛國MV挺華為  中國網友怒批：這就是高級黑', '收賄2300萬包庇電玩業者  最貪女檢判刑12年定讞', '無摺存款限本人  顧立雄：會引民怨', '保全領現金替ATM補鈔  台新銀沒申報挨罰', '校園徵才啟動  新光金獵4000名社會新鮮人', '北車街頭搶350萬  主嫌攜女友躲11天落網', '服飾店淪洗錢中繼站  男揪女友漂白贓款', '隊長間的fighting！  偵查隊長逮18歲車手隊長', '「誰摔死了李新」第9集再開戰  羅淑蕾批：移花接木陷害人', '華南銀今年暫緩海外設點  第一銀布局美、歐市場', '吳、辜、蔡家金控家族股權盤根錯節  金管會要揪出藏鏡人', '台商別怕！資金回台諮詢  財部：保證不列選查對象', '最高檢朱富美：不辦微罪小案 給檢察官裁量權', '國銀海外獲利  中國意外打趴日本擠入前3強', '兆豐銀不玩了！8銀行客戶匯美元回台將又貴又久', '美國對華為案有司法管轄權的3個原因', '【防洗錢接地氣1】蘇揆解民怨  金管會神秘客「密查」58家分行', '防洗錢 不擾民 金管會密查58分行', '無摺存款遭濫用 金管會設限陷兩難', '【防洗錢接地氣2】無摺存款遭濫用  金管會頭大', '全國客家日蘭陽慶天穿  賞歌舞嘗美食再汲廉政訊息   ', '曼谷BTS「兔子卡」實名制  外國人須出示護照註冊', '撞球好手余依珊開剝皮酒店淪階下囚  老公重起爐灶也被逮', '女急匯15萬給男友  行員機靈揭露詐騙', '不畏威權的牧者 高俊明 90歲辭世', '長老教會牧師高俊明傍晚辭世  享壽90歲', '「北斗星」被控資助北韓遭扣3月  船員：指鹿為馬', '誠美材誰當董事長  金管會：沒裁示是何昭陽', '得手206萬還想騙260萬  假檢察官2度詐補習班老師破功', '設局地下匯兌交易搶350萬  主嫌棄母逃跑遭警鎖定', '兆豐金董座張兆順 69歲初滑雪 有保險不怕摔', '台北車站換匯「加減賺」男遭搶350萬', '曾兩度越獄  墨國世紀毒梟10項罪名皆成立', '2成公司未申報股東資訊  小心將收罰單', '為何華為「5G」會被懷疑有「間諜活動」？', '【純網銀抽腿】一銀董瑞斌：大家長得都一樣', '台詐騙首腦越南落網  親友：回來判比較輕', '【大老闆過年】兆豐金老董疼孫陪滑雪  精算風控防摔', '【大老闆過年】張兆順領軍  兆豐銀三管齊下拚獲利', '車手領詐金手機響起「剛好遇見你」  轉頭剛好遇見警', '賴神還在！行政院洗錢防制廣告  驚見主角仍是賴清德', '曾踢爆范冰冰逃稅  崔永元再揭警界高官擁鉅款', '共享經濟存漏洞  Uber、Airbnb淪跨國洗錢工具', '公股金控轉型  鄉民力推5大理由好投資', '資安當道！兆豐票獲聯徵中心頒發金安獎', '兆豐銀行打造6家鑽石級理財旗艦店  衝刺財管業務', '老公行賄犯7罪下月宣判  胡慧中出街黑氣纏身', '彰化20萬人369重陽敬老金刪了  前...', '未注意瓦斯管線有漏  婦廚房點菸引氣爆', '王丹轟「小孩別插嘴」  孫大千再嗆「這...', '2貨車山路對撞  駕駛受困車內救出雙...', '《金蘋獎》入圍片4/15搶人氣  參賽...', '紅燈格鬥賽！暴怒法拉利哥直拳猛攻紅衣...', 'hTC內鬼洩密收回扣  首席設計師判刑...', '初選延後賴清德不滿！焦糖哥哥酸「媽寶...', '日本東北部宮城外海規模6.0地震  暫...', '台幣兌美元貶2.1分  收30.866...', '手機取代相機！專業攝影師：...', '3女童玩火燒死人 父母判賠...', '隔空較勁 蔡英文視訊美智庫...', '2019台北米其林 頤宮蟬...', '菜鳥女警清槍 誤擊自轟小腿']\n",
      "['https://tw.news.appledaily.com/local/realtime/20190411/1548460/', 'https://tw.news.appledaily.com/politics/realtime/20190411/1548842/', 'https://tw.news.appledaily.com/local/realtime/20190411/1548779/', 'https://tw.entertainment.appledaily.com/realtime/20190410/1547975/', 'https://tw.news.appledaily.com/local/realtime/20190409/1547441/', 'https://tw.news.appledaily.com/local/realtime/20190409/1547627/', 'https://tw.news.appledaily.com/local/realtime/20190409/1547582/', 'https://tw.finance.appledaily.com/realtime/20190408/1547272/', 'https://tw.appledaily.com/new/realtime/20190408/1546926/', 'https://tw.finance.appledaily.com/realtime/20190408/1546927/', 'https://tw.finance.appledaily.com/realtime/20190408/1546921/', 'https://tw.news.appledaily.com/politics/realtime/20190408/1546875/', 'https://tw.appledaily.com/international/daily/20190404/38300193/', 'https://tw.news.appledaily.com/international/realtime/20190404/1545111/', 'https://tw.news.appledaily.com/local/realtime/20190403/1544812/', 'https://tw.news.appledaily.com/local/realtime/20190403/1544745/', 'https://tw.news.appledaily.com/local/realtime/20190403/1544747/', 'https://tw.entertainment.appledaily.com/realtime/20190403/1544469/', 'https://tw.news.appledaily.com/nextmag/realtime/20190402/1544152/', 'https://tw.news.appledaily.com/local/realtime/20190402/1543984/', 'https://tw.appledaily.com/sports/daily/20190402/38297898/', 'https://tw.finance.appledaily.com/realtime/20190401/1543700/', 'https://tw.news.appledaily.com/local/realtime/20190331/1543092/', 'https://tw.appledaily.com/headline/daily/20190331/38296497/', 'https://www.appledaily.com.tw/realtimenews/article/new/20190331/1542694/', 'https://tw.news.appledaily.com/local/realtime/20190330/1542460/', 'https://tw.news.appledaily.com/local/realtime/20190329/1541911/', 'https://tw.finance.appledaily.com/realtime/20190329/1541801/', 'https://tw.finance.appledaily.com/realtime/20190329/1541636/', 'https://tw.appledaily.com/entertainment/daily/20190329/38294281/', 'https://tw.entertainment.appledaily.com/realtime/20190328/1541127/', 'https://tw.entertainment.appledaily.com/realtime/20190327/1540599/', 'https://tw.news.appledaily.com/international/realtime/20190327/1540375/', 'https://tw.news.appledaily.com/local/realtime/20190326/1539941/', 'https://tw.news.appledaily.com/politics/realtime/20190326/1539882/', 'https://tw.entertainment.appledaily.com/realtime/20190326/1539769/', 'https://tw.news.appledaily.com/nextmag/realtime/20190325/1539321/', 'https://tw.news.appledaily.com/local/realtime/20190325/1539263/', 'https://tw.news.appledaily.com/local/realtime/20190325/1539309/', 'https://tw.finance.appledaily.com/realtime/20190325/1539213/', 'https://tw.appledaily.com/finance/daily/20190325/38290460/', 'https://tw.finance.appledaily.com/realtime/20190324/1539022/', 'https://tw.finance.appledaily.com/realtime/20190324/1539007/', 'https://tw.news.appledaily.com/local/realtime/20190324/1538758/', 'https://tw.news.appledaily.com/politics/realtime/20190322/1537755/', 'https://tw.news.appledaily.com/local/realtime/20190322/1537762/', 'https://tw.entertainment.appledaily.com/realtime/20190320/1536932/', 'https://tw.news.appledaily.com/local/realtime/20190320/1536659/', 'https://tw.appledaily.com/headline/daily/20190320/38286008/', 'https://tw.entertainment.appledaily.com/realtime/20190319/1536147/', 'https://tw.news.appledaily.com/local/realtime/20190319/1535858/', 'https://tw.news.appledaily.com/local/realtime/20190318/1535411/', 'https://tw.news.appledaily.com/local/realtime/20190318/1535354/', 'https://tw.news.appledaily.com/local/realtime/20190318/1535110/', 'https://tw.news.appledaily.com/politics/realtime/20190318/1535102/', 'https://tw.entertainment.appledaily.com/realtime/20190317/1534963/', 'https://tw.news.appledaily.com/local/realtime/20190315/1533911/', 'https://tw.lifestyle.appledaily.com/gadget/realtime/20190315/1533810/', 'https://tw.news.appledaily.com/local/realtime/20190315/1533798/', 'https://tw.finance.appledaily.com/realtime/20190315/1533779/', 'https://tw.finance.appledaily.com/realtime/20190315/1533474/', 'https://tw.appledaily.com/headline/daily/20190315/38281512/', 'https://tw.news.appledaily.com/local/realtime/20190314/1533235/', 'https://tw.news.appledaily.com/local/realtime/20190314/1533078/', 'https://tw.news.appledaily.com/life/realtime/20190314/1532937/', 'https://tw.finance.appledaily.com/realtime/20190313/1532633/', 'https://tw.news.appledaily.com/local/realtime/20190313/1532496/', 'https://tw.news.appledaily.com/nextmag/realtime/20190313/1532403/', 'https://tw.news.appledaily.com/local/realtime/20190313/1532374/', 'https://tw.news.appledaily.com/local/realtime/20190313/1532319/', 'https://tw.entertainment.appledaily.com/realtime/20190312/1531421/', 'https://tw.news.appledaily.com/politics/realtime/20190312/1531550/', 'https://tw.appledaily.com/international/daily/20190312/38278503/', 'https://tw.finance.appledaily.com/realtime/20190311/1531002/', 'https://tw.news.appledaily.com/local/realtime/20190311/1531133/', 'https://tw.appledaily.com/headline/daily/20190311/38277803/', 'https://tw.finance.appledaily.com/realtime/20190310/1530612/', 'https://tw.finance.appledaily.com/realtime/20190310/1530816/', 'https://tw.finance.appledaily.com/realtime/20190310/1530580/', 'https://tw.finance.appledaily.com/realtime/20190310/1529897/', 'https://tw.appledaily.com/headline/daily/20190310/38276950/', 'https://tw.news.appledaily.com/politics/realtime/20190309/1530386/', 'https://tw.finance.appledaily.com/realtime/20190309/1529913/', 'https://tw.finance.appledaily.com/realtime/20190309/1529952/', 'https://tw.appledaily.com/international/daily/20190309/38275611/', 'https://tw.news.appledaily.com/international/realtime/20190308/1529474/', 'https://tw.finance.appledaily.com/realtime/20190308/1529410/', 'https://tw.appledaily.com/finance/daily/20190308/38275088/', 'https://tw.finance.appledaily.com/realtime/20190307/1528860/', 'https://tw.news.appledaily.com/local/realtime/20190306/1528302/', 'https://tw.finance.appledaily.com/realtime/20190305/1527288/', 'https://tw.appledaily.com/finance/daily/20190305/38271605/', 'https://tw.news.appledaily.com/international/realtime/20190304/1526818/', 'https://tw.finance.appledaily.com/realtime/20190304/1527232/', 'https://tw.finance.appledaily.com/realtime/20190304/1527057/', 'https://tw.finance.appledaily.com/realtime/20190304/1526864/', 'https://tw.appledaily.com/finance/daily/20190303/38269712/', 'https://tw.news.appledaily.com/international/realtime/20190302/1526008/', 'https://tw.news.appledaily.com/international/realtime/20190228/1525069/', 'https://tw.news.appledaily.com/local/realtime/20190227/1525014/', 'https://tw.finance.appledaily.com/realtime/20190227/1524540/', 'https://tw.finance.appledaily.com/realtime/20190226/1524209/', 'https://tw.finance.appledaily.com/realtime/20190225/1523440/', 'https://tw.news.appledaily.com/local/realtime/20190224/1522967/', 'https://tw.news.appledaily.com/local/realtime/20190224/1522942/', 'https://tw.news.appledaily.com/local/realtime/20190224/1522859/', 'https://tw.news.appledaily.com/politics/realtime/20190223/1522491/', 'https://tw.finance.appledaily.com/realtime/20190222/1521986/', 'https://tw.finance.appledaily.com/realtime/20190220/1520752/', 'https://tw.finance.appledaily.com/realtime/20190220/1520660/', 'https://www.appledaily.com.tw/realtimenews/article/new/20190220/1520105/', 'https://tw.finance.appledaily.com/realtime/20190219/1520209/', 'https://tw.finance.appledaily.com/realtime/20190218/1519529/', 'https://www.appledaily.com.tw/realtimenews/article/new/20190218/1519183/', 'https://tw.finance.appledaily.com/realtime/20190218/1518751/', 'https://tw.appledaily.com/finance/daily/20190218/38259238/', 'https://tw.appledaily.com/finance/daily/20190218/38259244/', 'https://tw.finance.appledaily.com/realtime/20190218/1518752/', 'https://tw.news.appledaily.com/local/realtime/20190217/1518836/', 'https://tw.news.appledaily.com/international/realtime/20190216/1518641/', 'https://tw.news.appledaily.com/local/realtime/20190215/1517977/', 'https://tw.news.appledaily.com/local/realtime/20190215/1517868/', 'https://tw.appledaily.com/headline/daily/20190215/38256507/', 'https://tw.news.appledaily.com/politics/realtime/20190214/1517493/', 'https://tw.news.appledaily.com/local/realtime/20190214/1517519/', 'https://tw.finance.appledaily.com/realtime/20190214/1517538/', 'https://tw.news.appledaily.com/local/realtime/20190214/1517144/', 'https://tw.news.appledaily.com/local/realtime/20190213/1516298/', 'https://tw.appledaily.com/finance/daily/20190213/38254833/', 'https://tw.appledaily.com/headline/daily/20190213/38255147/', 'https://tw.news.appledaily.com/international/realtime/20190213/1516365/', 'https://tw.finance.appledaily.com/realtime/20190212/1516263/', 'https://www.appledaily.com.tw/realtimenews/article/new/20190212/1516237/', 'https://tw.finance.appledaily.com/realtime/20190212/1516064/', 'https://tw.news.appledaily.com/local/realtime/20190212/1515884/', 'https://tw.finance.appledaily.com/realtime/20190212/1505342/', 'https://tw.finance.appledaily.com/realtime/20190212/1505496/', 'https://tw.news.appledaily.com/local/realtime/20190210/1514914/', 'https://tw.news.appledaily.com/politics/realtime/20190210/1514562/', 'https://tw.news.appledaily.com/international/realtime/20190209/1514798/', 'https://tw.news.appledaily.com/international/realtime/20190209/1514447/', 'https://tw.finance.appledaily.com/realtime/20190208/1508659/', 'https://tw.finance.appledaily.com/realtime/20190207/1512006/', 'https://tw.finance.appledaily.com/realtime/20190207/1511915/', 'https://tw.entertainment.appledaily.com/realtime/20190205/1513224/', 'https://tw.appledaily.com/new/realtime/20190411/1548912/', 'https://tw.appledaily.com/new/realtime/20190411/1548782/', 'https://tw.appledaily.com/new/realtime/20190411/1548975/', 'https://tw.appledaily.com/new/realtime/20190411/1548830/', 'https://tw.appledaily.com/new/realtime/20190411/1548924/', 'https://tw.appledaily.com/new/realtime/20190411/1548726/', 'https://tw.appledaily.com/new/realtime/20190411/1548460/', 'https://tw.appledaily.com/new/realtime/20190411/1548972/', 'https://tw.appledaily.com/new/realtime/20190411/1548969/', 'https://tw.appledaily.com/new/realtime/20190411/1548968/', 'https://tw.news.appledaily.com/headline/daily/20190411/38305660/', 'https://tw.news.appledaily.com/headline/daily/20190410/38305101/', 'https://tw.news.appledaily.com/headline/daily/20190410/38304937/', 'https://tw.news.appledaily.com/headline/daily/20190411/38305888/', 'https://tw.news.appledaily.com/headline/daily/20190410/38305094/']\n"
     ]
    }
   ],
   "source": [
    "#    options = webdriver.ChromeOptions()\n",
    "#    prefs = {'profile.default_content_settings.popups': 0, 'download.default_directory': './data'}\n",
    "#    options.add_experimental_option('prefs', prefs)\n",
    "#    driver = webdriver.Chrome(chrome_options=options)\n",
    "#    driver.get(url)\n",
    "\n",
    "#coding=utf-8\n",
    "option = webdriver.ChromeOptions()\n",
    "#option.add_argument('headless')\n",
    "option.add_argument('window-size=1200x600')\n",
    "browser = webdriver.Chrome(chrome_options=option)\n",
    "\"&&\"\n",
    "base_url = \"https://tw.appledaily.com/search/result?\"\n",
    "text = \"querystrS=洗錢\" # search Money laundering in Chinese\n",
    "searchSort = \"sort=time\"\n",
    "searchType = \"searchType=all\"\n",
    "dateStart = \"dateStart=\" + \"2003\" + \"%2F\" + \"05\" + \"%2F\" + \"02\" # 2003-05-02  start time of this website\n",
    "now = datetime.datetime.now()\n",
    "dateEnd = \"dateEnd=\" + str(now.year) + \"%2F\" + str(now.month) + \"%2F\" + str(now.day) #current date\n",
    "\n",
    "combine_url = base_url + text + '&' + searchSort + '&' + searchType + '&' + dateStart + '&' + dateEnd\n",
    "browser.get(combine_url)\n",
    "time.sleep(5)\n",
    "\n",
    "# fail to search by clicking button and send keywords \n",
    "    #button = browser.find_element_by_id('search')\n",
    "    #button.click()\n",
    "    #button.send_keys('洗錢')\n",
    "    #browser.find_element_by_id('start_date').clear()\n",
    "    #browser.find_element_by_id('start_date').send_keys('2003-5-2')\n",
    "    #browser.find_element_by_id('search').send_keys(Keys.ENTER)\n",
    "#Click every \"more Button\"\n",
    "\n",
    "while(1):\n",
    "    try :\n",
    "        button = browser.find_element_by_id('moreButton')\n",
    "        button.click()\n",
    "    except:\n",
    "        break\n",
    "\n",
    "soup = bs(browser.page_source, 'lxml')\n",
    "select_portion = soup.select('h2 a')\n",
    "title = []\n",
    "links = []\n",
    "for s in select_portion:\n",
    "    title.append(s.text)        \n",
    "    links.append(s.get('href'))\n",
    "    \n",
    "final_title = []\n",
    "No = []\n",
    "count = 0\n",
    "for t in title:\n",
    "    count = count + 1\n",
    "    title_temp = t.replace('\\u3000', '  ')\n",
    "    title_temp = title_temp.replace('\\u200b', '')\n",
    "    title_temp = title_temp.replace('                        \\n', '')\n",
    "    title_temp = title_temp.replace('\\n                        ', '')\n",
    "    final_title.append(title_temp)\n",
    "    No.append(count)\n",
    "#print(final_title)\n",
    "#print(links)\n",
    "\n",
    "title_link_dic = {\"Title\" : final_title, \"Links\": links}\n",
    "TL_df = pd.DataFrame(title_link_dic)\n",
    "TL_DF.head()"
   ]
  },
  {
   "cell_type": "code",
   "execution_count": null,
   "metadata": {},
   "outputs": [],
   "source": []
  },
  {
   "cell_type": "code",
   "execution_count": null,
   "metadata": {},
   "outputs": [],
   "source": []
  },
  {
   "cell_type": "code",
   "execution_count": null,
   "metadata": {},
   "outputs": [],
   "source": []
  }
 ],
 "metadata": {
  "kernelspec": {
   "display_name": "Python 3",
   "language": "python",
   "name": "python3"
  },
  "language_info": {
   "codemirror_mode": {
    "name": "ipython",
    "version": 3
   },
   "file_extension": ".py",
   "mimetype": "text/x-python",
   "name": "python",
   "nbconvert_exporter": "python",
   "pygments_lexer": "ipython3",
   "version": "3.7.1"
  }
 },
 "nbformat": 4,
 "nbformat_minor": 2
}
