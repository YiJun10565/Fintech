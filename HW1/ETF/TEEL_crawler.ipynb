{
 "cells": [
  {
   "cell_type": "code",
   "execution_count": 1,
   "metadata": {},
   "outputs": [],
   "source": [
    "from selenium import webdriver\n",
    "import time\n",
    "import csv\n",
    "\n",
    "ETFS = []\n",
    "#open the csv file and record column[0] in a dictionary\n",
    "with open('Telecom Equity ETF List (10).csv', newline='') as csvfile:\n",
    "\trows = csv.reader(csvfile)\n",
    "\tfor row in rows:\n",
    "\t\tETFS.append(row[0])\n",
    "\n",
    "#timestamp now\n",
    "Now = int(time.time())\n",
    "print(ETFS)\n",
    "for i in range(1, len(ETFS)):\n",
    "    print(ETFS[i])\n",
    "    #目標網頁的網址\n",
    "    url1 = \"https://finance.yahoo.com/quote/\"\n",
    "    etf = ETFS[i]\n",
    "    print(etf)\n",
    "    url2 = \"/history?period1=1451491200&period2=\"\n",
    "    now = str(Now)\n",
    "    url3 = \"&interval=1d&filter=history&frequency=1d\"\n",
    "    url = url1+etf+url2+now+url3\n",
    "\n",
    "    #用chromedriver開啟Chrome\n",
    "    options = webdriver.ChromeOptions()\n",
    "    prefs = {'profile.default_content_settings.popups': 0, 'download.default_directory': './data'}\n",
    "    options.add_experimental_option('prefs', prefs)\n",
    "    driver = webdriver.Chrome(chrome_options=options)\n",
    "    driver.get(url)\n",
    "    \n",
    "    #在網頁中找尋\"Download Data並點擊\"\n",
    "    driver.find_element_by_link_text(\"Download Data\").click()\n",
    "    time.sleep(5)\n",
    "    driver.quit()"
   ]
  }
 ],
 "metadata": {
  "kernelspec": {
   "display_name": "Python 3",
   "language": "python",
   "name": "python3"
  },
  "language_info": {
   "codemirror_mode": {
    "name": "ipython",
    "version": 3
   },
   "file_extension": ".py",
   "mimetype": "text/x-python",
   "name": "python",
   "nbconvert_exporter": "python",
   "pygments_lexer": "ipython3",
   "version": "3.7.1"
  }
 },
 "nbformat": 4,
 "nbformat_minor": 2
}
